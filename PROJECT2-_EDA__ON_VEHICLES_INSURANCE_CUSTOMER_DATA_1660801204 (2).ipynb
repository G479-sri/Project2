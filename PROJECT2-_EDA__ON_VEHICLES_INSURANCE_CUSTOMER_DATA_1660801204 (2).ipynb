{
 "cells": [
  {
   "cell_type": "markdown",
   "id": "dedf1f25",
   "metadata": {},
   "source": [
    "## Answer 1"
   ]
  },
  {
   "cell_type": "markdown",
   "id": "a6b7c2d8",
   "metadata": {},
   "source": [
    "## Add thecolumn names to the both datasets"
   ]
  },
  {
   "cell_type": "code",
   "execution_count": 2,
   "id": "4ed7bbe1",
   "metadata": {},
   "outputs": [],
   "source": [
    "import pandas as pd\n",
    "\n",
    "import numpy as np"
   ]
  },
  {
   "cell_type": "code",
   "execution_count": 3,
   "id": "c04bf393",
   "metadata": {},
   "outputs": [],
   "source": [
    "customer_details=pd.read_csv('customer_details.csv')"
   ]
  },
  {
   "cell_type": "code",
   "execution_count": 4,
   "id": "85bbc896",
   "metadata": {},
   "outputs": [],
   "source": [
    "customer_policy_details=pd.read_csv('customer_policy_details.csv')"
   ]
  },
  {
   "cell_type": "markdown",
   "id": "fd0dada8",
   "metadata": {},
   "source": [
    "## i"
   ]
  },
  {
   "cell_type": "markdown",
   "id": "be8822aa",
   "metadata": {},
   "source": [
    "## column name for the customer details table"
   ]
  },
  {
   "cell_type": "markdown",
   "id": "d2556a3d",
   "metadata": {},
   "source": [
    "## customer id\n",
    "## gender \n",
    "## age\n",
    "## driving license present"
   ]
  },
  {
   "cell_type": "markdown",
   "id": "de25ab43",
   "metadata": {},
   "source": [
    "## region code\n",
    "## previously insured\n",
    "## vehicle age\n",
    "## vehicle damage"
   ]
  },
  {
   "cell_type": "code",
   "execution_count": 5,
   "id": "54281b54",
   "metadata": {},
   "outputs": [],
   "source": [
    "customer_details.rename({'0':'Customer_Id','1':'Gender','2':'Age','3':'Driving Licence Present','4':'Region Code','5':'Previously Insured','6':'Vehicle Age','7':'Vehicle Damage'},axis=1,inplace=True)"
   ]
  },
  {
   "cell_type": "code",
   "execution_count": 6,
   "id": "6df984dc",
   "metadata": {},
   "outputs": [
    {
     "data": {
      "text/html": [
       "<div>\n",
       "<style scoped>\n",
       "    .dataframe tbody tr th:only-of-type {\n",
       "        vertical-align: middle;\n",
       "    }\n",
       "\n",
       "    .dataframe tbody tr th {\n",
       "        vertical-align: top;\n",
       "    }\n",
       "\n",
       "    .dataframe thead th {\n",
       "        text-align: right;\n",
       "    }\n",
       "</style>\n",
       "<table border=\"1\" class=\"dataframe\">\n",
       "  <thead>\n",
       "    <tr style=\"text-align: right;\">\n",
       "      <th></th>\n",
       "      <th>Customer_Id</th>\n",
       "      <th>Gender</th>\n",
       "      <th>Age</th>\n",
       "      <th>Driving Licence Present</th>\n",
       "      <th>Region Code</th>\n",
       "      <th>Previously Insured</th>\n",
       "      <th>Vehicle Age</th>\n",
       "      <th>Vehicle Damage</th>\n",
       "    </tr>\n",
       "  </thead>\n",
       "  <tbody>\n",
       "    <tr>\n",
       "      <th>0</th>\n",
       "      <td>1.0</td>\n",
       "      <td>Male</td>\n",
       "      <td>44.0</td>\n",
       "      <td>1.0</td>\n",
       "      <td>28.0</td>\n",
       "      <td>0.0</td>\n",
       "      <td>&gt; 2 Years</td>\n",
       "      <td>Yes</td>\n",
       "    </tr>\n",
       "    <tr>\n",
       "      <th>1</th>\n",
       "      <td>2.0</td>\n",
       "      <td>Male</td>\n",
       "      <td>76.0</td>\n",
       "      <td>1.0</td>\n",
       "      <td>3.0</td>\n",
       "      <td>0.0</td>\n",
       "      <td>1-2 Year</td>\n",
       "      <td>No</td>\n",
       "    </tr>\n",
       "    <tr>\n",
       "      <th>2</th>\n",
       "      <td>3.0</td>\n",
       "      <td>Male</td>\n",
       "      <td>47.0</td>\n",
       "      <td>1.0</td>\n",
       "      <td>28.0</td>\n",
       "      <td>0.0</td>\n",
       "      <td>&gt; 2 Years</td>\n",
       "      <td>Yes</td>\n",
       "    </tr>\n",
       "    <tr>\n",
       "      <th>3</th>\n",
       "      <td>4.0</td>\n",
       "      <td>Male</td>\n",
       "      <td>21.0</td>\n",
       "      <td>1.0</td>\n",
       "      <td>11.0</td>\n",
       "      <td>1.0</td>\n",
       "      <td>&lt; 1 Year</td>\n",
       "      <td>No</td>\n",
       "    </tr>\n",
       "    <tr>\n",
       "      <th>4</th>\n",
       "      <td>5.0</td>\n",
       "      <td>Female</td>\n",
       "      <td>29.0</td>\n",
       "      <td>1.0</td>\n",
       "      <td>41.0</td>\n",
       "      <td>1.0</td>\n",
       "      <td>&lt; 1 Year</td>\n",
       "      <td>No</td>\n",
       "    </tr>\n",
       "  </tbody>\n",
       "</table>\n",
       "</div>"
      ],
      "text/plain": [
       "   Customer_Id  Gender   Age  Driving Licence Present  Region Code  \\\n",
       "0          1.0    Male  44.0                      1.0         28.0   \n",
       "1          2.0    Male  76.0                      1.0          3.0   \n",
       "2          3.0    Male  47.0                      1.0         28.0   \n",
       "3          4.0    Male  21.0                      1.0         11.0   \n",
       "4          5.0  Female  29.0                      1.0         41.0   \n",
       "\n",
       "   Previously Insured Vehicle Age Vehicle Damage  \n",
       "0                 0.0   > 2 Years            Yes  \n",
       "1                 0.0    1-2 Year             No  \n",
       "2                 0.0   > 2 Years            Yes  \n",
       "3                 1.0    < 1 Year             No  \n",
       "4                 1.0    < 1 Year             No  "
      ]
     },
     "execution_count": 6,
     "metadata": {},
     "output_type": "execute_result"
    }
   ],
   "source": [
    "customer_details.head()"
   ]
  },
  {
   "cell_type": "markdown",
   "id": "173ea160",
   "metadata": {},
   "source": [
    "## ii"
   ]
  },
  {
   "cell_type": "markdown",
   "id": "1c34c371",
   "metadata": {},
   "source": [
    "## Column name for customer_policy table:\n",
    "\n",
    "## customer id,\n",
    "\n",
    "## Annual premium\n",
    "## sales channel code\n",
    "## vintage and response"
   ]
  },
  {
   "cell_type": "code",
   "execution_count": 7,
   "id": "ad93a34f",
   "metadata": {},
   "outputs": [],
   "source": [
    "customer_policy_details.rename({'0':'Customer_Id','1':'Annual Premium(Rs)','2':'Sales Channel Code','3':'Vintage','4':'Response'},axis=1,inplace=True)"
   ]
  },
  {
   "cell_type": "code",
   "execution_count": 8,
   "id": "12111466",
   "metadata": {},
   "outputs": [
    {
     "data": {
      "text/html": [
       "<div>\n",
       "<style scoped>\n",
       "    .dataframe tbody tr th:only-of-type {\n",
       "        vertical-align: middle;\n",
       "    }\n",
       "\n",
       "    .dataframe tbody tr th {\n",
       "        vertical-align: top;\n",
       "    }\n",
       "\n",
       "    .dataframe thead th {\n",
       "        text-align: right;\n",
       "    }\n",
       "</style>\n",
       "<table border=\"1\" class=\"dataframe\">\n",
       "  <thead>\n",
       "    <tr style=\"text-align: right;\">\n",
       "      <th></th>\n",
       "      <th>Customer_Id</th>\n",
       "      <th>Annual Premium(Rs)</th>\n",
       "      <th>Sales Channel Code</th>\n",
       "      <th>Vintage</th>\n",
       "      <th>Response</th>\n",
       "    </tr>\n",
       "  </thead>\n",
       "  <tbody>\n",
       "    <tr>\n",
       "      <th>0</th>\n",
       "      <td>1.0</td>\n",
       "      <td>40454.0</td>\n",
       "      <td>26.0</td>\n",
       "      <td>217.0</td>\n",
       "      <td>1.0</td>\n",
       "    </tr>\n",
       "    <tr>\n",
       "      <th>1</th>\n",
       "      <td>2.0</td>\n",
       "      <td>33536.0</td>\n",
       "      <td>26.0</td>\n",
       "      <td>183.0</td>\n",
       "      <td>0.0</td>\n",
       "    </tr>\n",
       "    <tr>\n",
       "      <th>2</th>\n",
       "      <td>3.0</td>\n",
       "      <td>38294.0</td>\n",
       "      <td>26.0</td>\n",
       "      <td>27.0</td>\n",
       "      <td>1.0</td>\n",
       "    </tr>\n",
       "    <tr>\n",
       "      <th>3</th>\n",
       "      <td>4.0</td>\n",
       "      <td>28619.0</td>\n",
       "      <td>152.0</td>\n",
       "      <td>203.0</td>\n",
       "      <td>0.0</td>\n",
       "    </tr>\n",
       "    <tr>\n",
       "      <th>4</th>\n",
       "      <td>5.0</td>\n",
       "      <td>27496.0</td>\n",
       "      <td>152.0</td>\n",
       "      <td>39.0</td>\n",
       "      <td>0.0</td>\n",
       "    </tr>\n",
       "  </tbody>\n",
       "</table>\n",
       "</div>"
      ],
      "text/plain": [
       "   Customer_Id  Annual Premium(Rs)  Sales Channel Code  Vintage  Response\n",
       "0          1.0             40454.0                26.0    217.0       1.0\n",
       "1          2.0             33536.0                26.0    183.0       0.0\n",
       "2          3.0             38294.0                26.0     27.0       1.0\n",
       "3          4.0             28619.0               152.0    203.0       0.0\n",
       "4          5.0             27496.0               152.0     39.0       0.0"
      ]
     },
     "execution_count": 8,
     "metadata": {},
     "output_type": "execute_result"
    }
   ],
   "source": [
    "customer_policy_details.head()"
   ]
  },
  {
   "cell_type": "markdown",
   "id": "086b2e73",
   "metadata": {},
   "source": [
    "## Answer 2"
   ]
  },
  {
   "cell_type": "markdown",
   "id": "d162510c",
   "metadata": {},
   "source": [
    "## checking and cleaning data quality"
   ]
  },
  {
   "cell_type": "markdown",
   "id": "39fbe1e4",
   "metadata": {},
   "source": [
    "## i"
   ]
  },
  {
   "cell_type": "markdown",
   "id": "48241153",
   "metadata": {},
   "source": [
    "## Null values\n"
   ]
  },
  {
   "cell_type": "markdown",
   "id": "d74c0be7",
   "metadata": {},
   "source": [
    "## generate asummary of count of all null values column wise"
   ]
  },
  {
   "cell_type": "code",
   "execution_count": 9,
   "id": "a3847dd8",
   "metadata": {},
   "outputs": [
    {
     "data": {
      "text/plain": [
       "Customer_Id                386\n",
       "Gender                     368\n",
       "Age                        368\n",
       "Driving Licence Present    393\n",
       "Region Code                392\n",
       "Previously Insured         381\n",
       "Vehicle Age                381\n",
       "Vehicle Damage             407\n",
       "dtype: int64"
      ]
     },
     "execution_count": 9,
     "metadata": {},
     "output_type": "execute_result"
    }
   ],
   "source": [
    "customer_details.isna().sum()"
   ]
  },
  {
   "cell_type": "code",
   "execution_count": 10,
   "id": "8260e2c9",
   "metadata": {},
   "outputs": [
    {
     "data": {
      "text/plain": [
       "Customer_Id           387\n",
       "Annual Premium(Rs)    346\n",
       "Sales Channel Code    400\n",
       "Vintage               388\n",
       "Response              361\n",
       "dtype: int64"
      ]
     },
     "execution_count": 10,
     "metadata": {},
     "output_type": "execute_result"
    }
   ],
   "source": [
    "customer_policy_details.isna().sum()"
   ]
  },
  {
   "cell_type": "markdown",
   "id": "d164df36",
   "metadata": {},
   "source": [
    "## drop null values for customer id because tendencies for isd is not feasible"
   ]
  },
  {
   "cell_type": "code",
   "execution_count": 11,
   "id": "31de425d",
   "metadata": {},
   "outputs": [],
   "source": [
    "customer_details=customer_details.dropna(subset=['Customer_Id'])"
   ]
  },
  {
   "cell_type": "code",
   "execution_count": 12,
   "id": "93a60c00",
   "metadata": {},
   "outputs": [
    {
     "data": {
      "text/plain": [
       "Customer_Id                  0\n",
       "Gender                     368\n",
       "Age                        366\n",
       "Driving Licence Present    392\n",
       "Region Code                391\n",
       "Previously Insured         381\n",
       "Vehicle Age                381\n",
       "Vehicle Damage             406\n",
       "dtype: int64"
      ]
     },
     "execution_count": 12,
     "metadata": {},
     "output_type": "execute_result"
    }
   ],
   "source": [
    "customer_details.isna().sum()"
   ]
  },
  {
   "cell_type": "code",
   "execution_count": 13,
   "id": "64adc27d",
   "metadata": {},
   "outputs": [],
   "source": [
    "customer_policy_details=customer_policy_details.dropna(subset=['Customer_Id'])"
   ]
  },
  {
   "cell_type": "code",
   "execution_count": 14,
   "id": "87338de1",
   "metadata": {},
   "outputs": [
    {
     "data": {
      "text/plain": [
       "Customer_Id             0\n",
       "Annual Premium(Rs)    344\n",
       "Sales Channel Code    400\n",
       "Vintage               388\n",
       "Response              361\n",
       "dtype: int64"
      ]
     },
     "execution_count": 14,
     "metadata": {},
     "output_type": "execute_result"
    }
   ],
   "source": [
    "customer_policy_details.isna().sum()"
   ]
  },
  {
   "cell_type": "markdown",
   "id": "9e373ea5",
   "metadata": {},
   "source": [
    "## replace all null values fornumeric column by mean"
   ]
  },
  {
   "cell_type": "code",
   "execution_count": 15,
   "id": "9f0ac097",
   "metadata": {},
   "outputs": [],
   "source": [
    "customer_policy_details.fillna(customer_policy_details.mean().mean(),inplace=True)"
   ]
  },
  {
   "cell_type": "code",
   "execution_count": 16,
   "id": "88965a63",
   "metadata": {},
   "outputs": [
    {
     "data": {
      "text/plain": [
       "Customer_Id           0\n",
       "Annual Premium(Rs)    0\n",
       "Sales Channel Code    0\n",
       "Vintage               0\n",
       "Response              0\n",
       "dtype: int64"
      ]
     },
     "execution_count": 16,
     "metadata": {},
     "output_type": "execute_result"
    }
   ],
   "source": [
    "customer_policy_details.isna().sum()"
   ]
  },
  {
   "cell_type": "code",
   "execution_count": 17,
   "id": "d8950108",
   "metadata": {},
   "outputs": [
    {
     "data": {
      "text/plain": [
       "Customer_Id                  0\n",
       "Gender                     368\n",
       "Age                        366\n",
       "Driving Licence Present    392\n",
       "Region Code                391\n",
       "Previously Insured         381\n",
       "Vehicle Age                381\n",
       "Vehicle Damage             406\n",
       "dtype: int64"
      ]
     },
     "execution_count": 17,
     "metadata": {},
     "output_type": "execute_result"
    }
   ],
   "source": [
    "customer_details.isna().sum()"
   ]
  },
  {
   "cell_type": "markdown",
   "id": "72323363",
   "metadata": {},
   "source": [
    "## replace all null values for categorial value by mode"
   ]
  },
  {
   "cell_type": "code",
   "execution_count": 18,
   "id": "2f88c688",
   "metadata": {},
   "outputs": [],
   "source": [
    "customer_details['Gender']=customer_details['Gender'].fillna(customer_details['Gender'].mode()[0])\n",
    "customer_details['Age']=customer_details['Age'].fillna(customer_details['Age'].mode()[0])\n",
    "customer_details['Driving Licence Present']=customer_details['Driving Licence Present'].fillna(customer_details['Driving Licence Present'].mode()[0])\n",
    "customer_details['Region Code']=customer_details['Region Code'].fillna(customer_details['Region Code'].mode()[0])\n",
    "customer_details['Previously Insured']=customer_details['Previously Insured'].fillna(customer_details['Previously Insured'].mode()[0])\n",
    "customer_details['Vehicle Age']=customer_details['Vehicle Age'].fillna(customer_details['Vehicle Age'].mode()[0])\n",
    "customer_details['Vehicle Damage']=customer_details['Vehicle Damage'].fillna(customer_details['Vehicle Damage'].mode()[0])\n"
   ]
  },
  {
   "cell_type": "code",
   "execution_count": 19,
   "id": "2f1df61c",
   "metadata": {},
   "outputs": [
    {
     "data": {
      "text/plain": [
       "Customer_Id                0\n",
       "Gender                     0\n",
       "Age                        0\n",
       "Driving Licence Present    0\n",
       "Region Code                0\n",
       "Previously Insured         0\n",
       "Vehicle Age                0\n",
       "Vehicle Damage             0\n",
       "dtype: int64"
      ]
     },
     "execution_count": 19,
     "metadata": {},
     "output_type": "execute_result"
    }
   ],
   "source": [
    "customer_details.isnull().sum()"
   ]
  },
  {
   "cell_type": "markdown",
   "id": "685db96d",
   "metadata": {},
   "source": [
    "## ii"
   ]
  },
  {
   "cell_type": "markdown",
   "id": "f962b792",
   "metadata": {},
   "source": [
    "## outliers\n",
    "\n",
    "## generate a summary of count of all the outlierw coumn wise"
   ]
  },
  {
   "cell_type": "code",
   "execution_count": 20,
   "id": "aec6e0b7",
   "metadata": {},
   "outputs": [
    {
     "data": {
      "text/plain": [
       "Customer_Id               0\n",
       "Annual Premium(Rs)    10239\n",
       "Sales Channel Code      400\n",
       "Vintage                 388\n",
       "Response              46965\n",
       "dtype: int64"
      ]
     },
     "execution_count": 20,
     "metadata": {},
     "output_type": "execute_result"
    }
   ],
   "source": [
    "q1=customer_policy_details.quantile(0.25)\n",
    "q3=customer_policy_details.quantile(0.75)\n",
    "iqr=q3-q1\n",
    "l=q1-(1.5*iqr)\n",
    "u=q3+(1.5*iqr)\n",
    "((customer_policy_details<l)|(customer_policy_details>u)).sum()"
   ]
  },
  {
   "cell_type": "markdown",
   "id": "b4be1f9b",
   "metadata": {},
   "source": [
    "## replace all the  outliers values for numeric values by mean"
   ]
  },
  {
   "cell_type": "code",
   "execution_count": 21,
   "id": "7ba5cf59",
   "metadata": {},
   "outputs": [],
   "source": [
    "customer_policy_details['Annual Premium(Rs)']=customer_policy_details['Annual Premium(Rs)'].astype('float')"
   ]
  },
  {
   "cell_type": "code",
   "execution_count": 22,
   "id": "27e940fa",
   "metadata": {},
   "outputs": [],
   "source": [
    "q1=customer_policy_details[['Annual Premium(Rs)']].quantile(0.25)\n",
    "q3=customer_policy_details[['Annual Premium(Rs)']].quantile(0.75)"
   ]
  },
  {
   "cell_type": "code",
   "execution_count": 23,
   "id": "ab4cad80",
   "metadata": {},
   "outputs": [],
   "source": [
    "iqr=q3-q1"
   ]
  },
  {
   "cell_type": "code",
   "execution_count": 24,
   "id": "8e491eaf",
   "metadata": {},
   "outputs": [],
   "source": [
    "l=q1-(1.5*iqr)\n",
    "u=q3+(1.5*iqr)"
   ]
  },
  {
   "cell_type": "code",
   "execution_count": 25,
   "id": "23d8dafc",
   "metadata": {},
   "outputs": [
    {
     "data": {
      "text/plain": [
       "Annual Premium(Rs)    10239\n",
       "dtype: int64"
      ]
     },
     "execution_count": 25,
     "metadata": {},
     "output_type": "execute_result"
    }
   ],
   "source": [
    "((customer_policy_details[['Annual Premium(Rs)']]<l)|(customer_policy_details[['Annual Premium(Rs)']]>u)).sum()"
   ]
  },
  {
   "cell_type": "markdown",
   "id": "fa4ec62e",
   "metadata": {},
   "source": [
    "## iii"
   ]
  },
  {
   "cell_type": "markdown",
   "id": "2eb4cea5",
   "metadata": {},
   "source": [
    "## White spaces"
   ]
  },
  {
   "cell_type": "markdown",
   "id": "9c95dadf",
   "metadata": {},
   "source": [
    "## remove white spaces"
   ]
  },
  {
   "cell_type": "code",
   "execution_count": 26,
   "id": "e649bb22",
   "metadata": {},
   "outputs": [
    {
     "data": {
      "text/plain": [
       "0           Male\n",
       "1           Male\n",
       "2           Male\n",
       "3           Male\n",
       "4         Female\n",
       "           ...  \n",
       "381104      Male\n",
       "381105      Male\n",
       "381106      Male\n",
       "381107    Female\n",
       "381108      Male\n",
       "Name: Gender, Length: 380723, dtype: object"
      ]
     },
     "execution_count": 26,
     "metadata": {},
     "output_type": "execute_result"
    }
   ],
   "source": [
    "customer_details['Gender'].str.strip()"
   ]
  },
  {
   "cell_type": "markdown",
   "id": "7fcec94d",
   "metadata": {},
   "source": [
    "## iv"
   ]
  },
  {
   "cell_type": "markdown",
   "id": "93b98790",
   "metadata": {},
   "source": [
    "## case correction"
   ]
  },
  {
   "cell_type": "code",
   "execution_count": 27,
   "id": "46747441",
   "metadata": {},
   "outputs": [
    {
     "data": {
      "text/html": [
       "<div>\n",
       "<style scoped>\n",
       "    .dataframe tbody tr th:only-of-type {\n",
       "        vertical-align: middle;\n",
       "    }\n",
       "\n",
       "    .dataframe tbody tr th {\n",
       "        vertical-align: top;\n",
       "    }\n",
       "\n",
       "    .dataframe thead th {\n",
       "        text-align: right;\n",
       "    }\n",
       "</style>\n",
       "<table border=\"1\" class=\"dataframe\">\n",
       "  <thead>\n",
       "    <tr style=\"text-align: right;\">\n",
       "      <th></th>\n",
       "      <th>Customer_Id</th>\n",
       "      <th>Gender</th>\n",
       "      <th>Age</th>\n",
       "      <th>Driving Licence Present</th>\n",
       "      <th>Region Code</th>\n",
       "      <th>Previously Insured</th>\n",
       "      <th>Vehicle Age</th>\n",
       "      <th>Vehicle Damage</th>\n",
       "    </tr>\n",
       "  </thead>\n",
       "  <tbody>\n",
       "    <tr>\n",
       "      <th>0</th>\n",
       "      <td>1.0</td>\n",
       "      <td>MALE</td>\n",
       "      <td>44.0</td>\n",
       "      <td>1.0</td>\n",
       "      <td>28.0</td>\n",
       "      <td>0.0</td>\n",
       "      <td>&gt; 2 YEARS</td>\n",
       "      <td>YES</td>\n",
       "    </tr>\n",
       "    <tr>\n",
       "      <th>1</th>\n",
       "      <td>2.0</td>\n",
       "      <td>MALE</td>\n",
       "      <td>76.0</td>\n",
       "      <td>1.0</td>\n",
       "      <td>3.0</td>\n",
       "      <td>0.0</td>\n",
       "      <td>1-2 YEAR</td>\n",
       "      <td>NO</td>\n",
       "    </tr>\n",
       "    <tr>\n",
       "      <th>2</th>\n",
       "      <td>3.0</td>\n",
       "      <td>MALE</td>\n",
       "      <td>47.0</td>\n",
       "      <td>1.0</td>\n",
       "      <td>28.0</td>\n",
       "      <td>0.0</td>\n",
       "      <td>&gt; 2 YEARS</td>\n",
       "      <td>YES</td>\n",
       "    </tr>\n",
       "    <tr>\n",
       "      <th>3</th>\n",
       "      <td>4.0</td>\n",
       "      <td>MALE</td>\n",
       "      <td>21.0</td>\n",
       "      <td>1.0</td>\n",
       "      <td>11.0</td>\n",
       "      <td>1.0</td>\n",
       "      <td>&lt; 1 YEAR</td>\n",
       "      <td>NO</td>\n",
       "    </tr>\n",
       "    <tr>\n",
       "      <th>4</th>\n",
       "      <td>5.0</td>\n",
       "      <td>FEMALE</td>\n",
       "      <td>29.0</td>\n",
       "      <td>1.0</td>\n",
       "      <td>41.0</td>\n",
       "      <td>1.0</td>\n",
       "      <td>&lt; 1 YEAR</td>\n",
       "      <td>NO</td>\n",
       "    </tr>\n",
       "    <tr>\n",
       "      <th>...</th>\n",
       "      <td>...</td>\n",
       "      <td>...</td>\n",
       "      <td>...</td>\n",
       "      <td>...</td>\n",
       "      <td>...</td>\n",
       "      <td>...</td>\n",
       "      <td>...</td>\n",
       "      <td>...</td>\n",
       "    </tr>\n",
       "    <tr>\n",
       "      <th>381104</th>\n",
       "      <td>381105.0</td>\n",
       "      <td>MALE</td>\n",
       "      <td>74.0</td>\n",
       "      <td>1.0</td>\n",
       "      <td>26.0</td>\n",
       "      <td>1.0</td>\n",
       "      <td>1-2 YEAR</td>\n",
       "      <td>NO</td>\n",
       "    </tr>\n",
       "    <tr>\n",
       "      <th>381105</th>\n",
       "      <td>381106.0</td>\n",
       "      <td>MALE</td>\n",
       "      <td>30.0</td>\n",
       "      <td>1.0</td>\n",
       "      <td>37.0</td>\n",
       "      <td>1.0</td>\n",
       "      <td>&lt; 1 YEAR</td>\n",
       "      <td>NO</td>\n",
       "    </tr>\n",
       "    <tr>\n",
       "      <th>381106</th>\n",
       "      <td>381107.0</td>\n",
       "      <td>MALE</td>\n",
       "      <td>21.0</td>\n",
       "      <td>1.0</td>\n",
       "      <td>30.0</td>\n",
       "      <td>1.0</td>\n",
       "      <td>&lt; 1 YEAR</td>\n",
       "      <td>NO</td>\n",
       "    </tr>\n",
       "    <tr>\n",
       "      <th>381107</th>\n",
       "      <td>381108.0</td>\n",
       "      <td>FEMALE</td>\n",
       "      <td>68.0</td>\n",
       "      <td>1.0</td>\n",
       "      <td>14.0</td>\n",
       "      <td>0.0</td>\n",
       "      <td>&gt; 2 YEARS</td>\n",
       "      <td>YES</td>\n",
       "    </tr>\n",
       "    <tr>\n",
       "      <th>381108</th>\n",
       "      <td>381109.0</td>\n",
       "      <td>MALE</td>\n",
       "      <td>46.0</td>\n",
       "      <td>1.0</td>\n",
       "      <td>29.0</td>\n",
       "      <td>0.0</td>\n",
       "      <td>1-2 YEAR</td>\n",
       "      <td>NO</td>\n",
       "    </tr>\n",
       "  </tbody>\n",
       "</table>\n",
       "<p>380723 rows × 8 columns</p>\n",
       "</div>"
      ],
      "text/plain": [
       "       Customer_Id  Gender   Age Driving Licence Present Region Code  \\\n",
       "0              1.0    MALE  44.0                     1.0        28.0   \n",
       "1              2.0    MALE  76.0                     1.0         3.0   \n",
       "2              3.0    MALE  47.0                     1.0        28.0   \n",
       "3              4.0    MALE  21.0                     1.0        11.0   \n",
       "4              5.0  FEMALE  29.0                     1.0        41.0   \n",
       "...            ...     ...   ...                     ...         ...   \n",
       "381104    381105.0    MALE  74.0                     1.0        26.0   \n",
       "381105    381106.0    MALE  30.0                     1.0        37.0   \n",
       "381106    381107.0    MALE  21.0                     1.0        30.0   \n",
       "381107    381108.0  FEMALE  68.0                     1.0        14.0   \n",
       "381108    381109.0    MALE  46.0                     1.0        29.0   \n",
       "\n",
       "       Previously Insured Vehicle Age Vehicle Damage  \n",
       "0                     0.0   > 2 YEARS            YES  \n",
       "1                     0.0    1-2 YEAR             NO  \n",
       "2                     0.0   > 2 YEARS            YES  \n",
       "3                     1.0    < 1 YEAR             NO  \n",
       "4                     1.0    < 1 YEAR             NO  \n",
       "...                   ...         ...            ...  \n",
       "381104                1.0    1-2 YEAR             NO  \n",
       "381105                1.0    < 1 YEAR             NO  \n",
       "381106                1.0    < 1 YEAR             NO  \n",
       "381107                0.0   > 2 YEARS            YES  \n",
       "381108                0.0    1-2 YEAR             NO  \n",
       "\n",
       "[380723 rows x 8 columns]"
      ]
     },
     "execution_count": 27,
     "metadata": {},
     "output_type": "execute_result"
    }
   ],
   "source": [
    "customer_details.apply(lambda x: x.astype(str).str.upper())"
   ]
  },
  {
   "cell_type": "markdown",
   "id": "ee163af3",
   "metadata": {},
   "source": [
    "## v"
   ]
  },
  {
   "cell_type": "markdown",
   "id": "f9efab85",
   "metadata": {},
   "source": [
    "## convert nominal data into dummies"
   ]
  },
  {
   "cell_type": "code",
   "execution_count": 28,
   "id": "1fdc0ab6",
   "metadata": {},
   "outputs": [],
   "source": [
    "customerdetails=pd.get_dummies(customer_details)"
   ]
  },
  {
   "cell_type": "code",
   "execution_count": 29,
   "id": "72b2e3b1",
   "metadata": {},
   "outputs": [
    {
     "data": {
      "text/html": [
       "<div>\n",
       "<style scoped>\n",
       "    .dataframe tbody tr th:only-of-type {\n",
       "        vertical-align: middle;\n",
       "    }\n",
       "\n",
       "    .dataframe tbody tr th {\n",
       "        vertical-align: top;\n",
       "    }\n",
       "\n",
       "    .dataframe thead th {\n",
       "        text-align: right;\n",
       "    }\n",
       "</style>\n",
       "<table border=\"1\" class=\"dataframe\">\n",
       "  <thead>\n",
       "    <tr style=\"text-align: right;\">\n",
       "      <th></th>\n",
       "      <th>Customer_Id</th>\n",
       "      <th>Age</th>\n",
       "      <th>Driving Licence Present</th>\n",
       "      <th>Region Code</th>\n",
       "      <th>Previously Insured</th>\n",
       "      <th>Gender_Female</th>\n",
       "      <th>Gender_Male</th>\n",
       "      <th>Vehicle Age_1-2 Year</th>\n",
       "      <th>Vehicle Age_&lt; 1 Year</th>\n",
       "      <th>Vehicle Age_&gt; 2 Years</th>\n",
       "      <th>Vehicle Damage_No</th>\n",
       "      <th>Vehicle Damage_Yes</th>\n",
       "    </tr>\n",
       "  </thead>\n",
       "  <tbody>\n",
       "    <tr>\n",
       "      <th>0</th>\n",
       "      <td>1.0</td>\n",
       "      <td>44.0</td>\n",
       "      <td>1.0</td>\n",
       "      <td>28.0</td>\n",
       "      <td>0.0</td>\n",
       "      <td>0</td>\n",
       "      <td>1</td>\n",
       "      <td>0</td>\n",
       "      <td>0</td>\n",
       "      <td>1</td>\n",
       "      <td>0</td>\n",
       "      <td>1</td>\n",
       "    </tr>\n",
       "    <tr>\n",
       "      <th>1</th>\n",
       "      <td>2.0</td>\n",
       "      <td>76.0</td>\n",
       "      <td>1.0</td>\n",
       "      <td>3.0</td>\n",
       "      <td>0.0</td>\n",
       "      <td>0</td>\n",
       "      <td>1</td>\n",
       "      <td>1</td>\n",
       "      <td>0</td>\n",
       "      <td>0</td>\n",
       "      <td>1</td>\n",
       "      <td>0</td>\n",
       "    </tr>\n",
       "    <tr>\n",
       "      <th>2</th>\n",
       "      <td>3.0</td>\n",
       "      <td>47.0</td>\n",
       "      <td>1.0</td>\n",
       "      <td>28.0</td>\n",
       "      <td>0.0</td>\n",
       "      <td>0</td>\n",
       "      <td>1</td>\n",
       "      <td>0</td>\n",
       "      <td>0</td>\n",
       "      <td>1</td>\n",
       "      <td>0</td>\n",
       "      <td>1</td>\n",
       "    </tr>\n",
       "    <tr>\n",
       "      <th>3</th>\n",
       "      <td>4.0</td>\n",
       "      <td>21.0</td>\n",
       "      <td>1.0</td>\n",
       "      <td>11.0</td>\n",
       "      <td>1.0</td>\n",
       "      <td>0</td>\n",
       "      <td>1</td>\n",
       "      <td>0</td>\n",
       "      <td>1</td>\n",
       "      <td>0</td>\n",
       "      <td>1</td>\n",
       "      <td>0</td>\n",
       "    </tr>\n",
       "    <tr>\n",
       "      <th>4</th>\n",
       "      <td>5.0</td>\n",
       "      <td>29.0</td>\n",
       "      <td>1.0</td>\n",
       "      <td>41.0</td>\n",
       "      <td>1.0</td>\n",
       "      <td>1</td>\n",
       "      <td>0</td>\n",
       "      <td>0</td>\n",
       "      <td>1</td>\n",
       "      <td>0</td>\n",
       "      <td>1</td>\n",
       "      <td>0</td>\n",
       "    </tr>\n",
       "    <tr>\n",
       "      <th>...</th>\n",
       "      <td>...</td>\n",
       "      <td>...</td>\n",
       "      <td>...</td>\n",
       "      <td>...</td>\n",
       "      <td>...</td>\n",
       "      <td>...</td>\n",
       "      <td>...</td>\n",
       "      <td>...</td>\n",
       "      <td>...</td>\n",
       "      <td>...</td>\n",
       "      <td>...</td>\n",
       "      <td>...</td>\n",
       "    </tr>\n",
       "    <tr>\n",
       "      <th>381104</th>\n",
       "      <td>381105.0</td>\n",
       "      <td>74.0</td>\n",
       "      <td>1.0</td>\n",
       "      <td>26.0</td>\n",
       "      <td>1.0</td>\n",
       "      <td>0</td>\n",
       "      <td>1</td>\n",
       "      <td>1</td>\n",
       "      <td>0</td>\n",
       "      <td>0</td>\n",
       "      <td>1</td>\n",
       "      <td>0</td>\n",
       "    </tr>\n",
       "    <tr>\n",
       "      <th>381105</th>\n",
       "      <td>381106.0</td>\n",
       "      <td>30.0</td>\n",
       "      <td>1.0</td>\n",
       "      <td>37.0</td>\n",
       "      <td>1.0</td>\n",
       "      <td>0</td>\n",
       "      <td>1</td>\n",
       "      <td>0</td>\n",
       "      <td>1</td>\n",
       "      <td>0</td>\n",
       "      <td>1</td>\n",
       "      <td>0</td>\n",
       "    </tr>\n",
       "    <tr>\n",
       "      <th>381106</th>\n",
       "      <td>381107.0</td>\n",
       "      <td>21.0</td>\n",
       "      <td>1.0</td>\n",
       "      <td>30.0</td>\n",
       "      <td>1.0</td>\n",
       "      <td>0</td>\n",
       "      <td>1</td>\n",
       "      <td>0</td>\n",
       "      <td>1</td>\n",
       "      <td>0</td>\n",
       "      <td>1</td>\n",
       "      <td>0</td>\n",
       "    </tr>\n",
       "    <tr>\n",
       "      <th>381107</th>\n",
       "      <td>381108.0</td>\n",
       "      <td>68.0</td>\n",
       "      <td>1.0</td>\n",
       "      <td>14.0</td>\n",
       "      <td>0.0</td>\n",
       "      <td>1</td>\n",
       "      <td>0</td>\n",
       "      <td>0</td>\n",
       "      <td>0</td>\n",
       "      <td>1</td>\n",
       "      <td>0</td>\n",
       "      <td>1</td>\n",
       "    </tr>\n",
       "    <tr>\n",
       "      <th>381108</th>\n",
       "      <td>381109.0</td>\n",
       "      <td>46.0</td>\n",
       "      <td>1.0</td>\n",
       "      <td>29.0</td>\n",
       "      <td>0.0</td>\n",
       "      <td>0</td>\n",
       "      <td>1</td>\n",
       "      <td>1</td>\n",
       "      <td>0</td>\n",
       "      <td>0</td>\n",
       "      <td>1</td>\n",
       "      <td>0</td>\n",
       "    </tr>\n",
       "  </tbody>\n",
       "</table>\n",
       "<p>380723 rows × 12 columns</p>\n",
       "</div>"
      ],
      "text/plain": [
       "        Customer_Id   Age  Driving Licence Present  Region Code  \\\n",
       "0               1.0  44.0                      1.0         28.0   \n",
       "1               2.0  76.0                      1.0          3.0   \n",
       "2               3.0  47.0                      1.0         28.0   \n",
       "3               4.0  21.0                      1.0         11.0   \n",
       "4               5.0  29.0                      1.0         41.0   \n",
       "...             ...   ...                      ...          ...   \n",
       "381104     381105.0  74.0                      1.0         26.0   \n",
       "381105     381106.0  30.0                      1.0         37.0   \n",
       "381106     381107.0  21.0                      1.0         30.0   \n",
       "381107     381108.0  68.0                      1.0         14.0   \n",
       "381108     381109.0  46.0                      1.0         29.0   \n",
       "\n",
       "        Previously Insured  Gender_Female  Gender_Male  Vehicle Age_1-2 Year  \\\n",
       "0                      0.0              0            1                     0   \n",
       "1                      0.0              0            1                     1   \n",
       "2                      0.0              0            1                     0   \n",
       "3                      1.0              0            1                     0   \n",
       "4                      1.0              1            0                     0   \n",
       "...                    ...            ...          ...                   ...   \n",
       "381104                 1.0              0            1                     1   \n",
       "381105                 1.0              0            1                     0   \n",
       "381106                 1.0              0            1                     0   \n",
       "381107                 0.0              1            0                     0   \n",
       "381108                 0.0              0            1                     1   \n",
       "\n",
       "        Vehicle Age_< 1 Year  Vehicle Age_> 2 Years  Vehicle Damage_No  \\\n",
       "0                          0                      1                  0   \n",
       "1                          0                      0                  1   \n",
       "2                          0                      1                  0   \n",
       "3                          1                      0                  1   \n",
       "4                          1                      0                  1   \n",
       "...                      ...                    ...                ...   \n",
       "381104                     0                      0                  1   \n",
       "381105                     1                      0                  1   \n",
       "381106                     1                      0                  1   \n",
       "381107                     0                      1                  0   \n",
       "381108                     0                      0                  1   \n",
       "\n",
       "        Vehicle Damage_Yes  \n",
       "0                        1  \n",
       "1                        0  \n",
       "2                        1  \n",
       "3                        0  \n",
       "4                        0  \n",
       "...                    ...  \n",
       "381104                   0  \n",
       "381105                   0  \n",
       "381106                   0  \n",
       "381107                   1  \n",
       "381108                   0  \n",
       "\n",
       "[380723 rows x 12 columns]"
      ]
     },
     "execution_count": 29,
     "metadata": {},
     "output_type": "execute_result"
    }
   ],
   "source": [
    "customerdetails"
   ]
  },
  {
   "cell_type": "markdown",
   "id": "47ada156",
   "metadata": {},
   "source": [
    "## vi"
   ]
  },
  {
   "cell_type": "markdown",
   "id": "5e79c2ff",
   "metadata": {},
   "source": [
    "## drop duplicates"
   ]
  },
  {
   "cell_type": "code",
   "execution_count": 30,
   "id": "c941f64b",
   "metadata": {},
   "outputs": [
    {
     "data": {
      "text/html": [
       "<div>\n",
       "<style scoped>\n",
       "    .dataframe tbody tr th:only-of-type {\n",
       "        vertical-align: middle;\n",
       "    }\n",
       "\n",
       "    .dataframe tbody tr th {\n",
       "        vertical-align: top;\n",
       "    }\n",
       "\n",
       "    .dataframe thead th {\n",
       "        text-align: right;\n",
       "    }\n",
       "</style>\n",
       "<table border=\"1\" class=\"dataframe\">\n",
       "  <thead>\n",
       "    <tr style=\"text-align: right;\">\n",
       "      <th></th>\n",
       "      <th>Customer_Id</th>\n",
       "      <th>Age</th>\n",
       "      <th>Driving Licence Present</th>\n",
       "      <th>Region Code</th>\n",
       "      <th>Previously Insured</th>\n",
       "      <th>Gender_Female</th>\n",
       "      <th>Gender_Male</th>\n",
       "      <th>Vehicle Age_1-2 Year</th>\n",
       "      <th>Vehicle Age_&lt; 1 Year</th>\n",
       "      <th>Vehicle Age_&gt; 2 Years</th>\n",
       "      <th>Vehicle Damage_No</th>\n",
       "      <th>Vehicle Damage_Yes</th>\n",
       "    </tr>\n",
       "  </thead>\n",
       "  <tbody>\n",
       "    <tr>\n",
       "      <th>0</th>\n",
       "      <td>1.0</td>\n",
       "      <td>44.0</td>\n",
       "      <td>1.0</td>\n",
       "      <td>28.0</td>\n",
       "      <td>0.0</td>\n",
       "      <td>0</td>\n",
       "      <td>1</td>\n",
       "      <td>0</td>\n",
       "      <td>0</td>\n",
       "      <td>1</td>\n",
       "      <td>0</td>\n",
       "      <td>1</td>\n",
       "    </tr>\n",
       "    <tr>\n",
       "      <th>1</th>\n",
       "      <td>2.0</td>\n",
       "      <td>76.0</td>\n",
       "      <td>1.0</td>\n",
       "      <td>3.0</td>\n",
       "      <td>0.0</td>\n",
       "      <td>0</td>\n",
       "      <td>1</td>\n",
       "      <td>1</td>\n",
       "      <td>0</td>\n",
       "      <td>0</td>\n",
       "      <td>1</td>\n",
       "      <td>0</td>\n",
       "    </tr>\n",
       "    <tr>\n",
       "      <th>2</th>\n",
       "      <td>3.0</td>\n",
       "      <td>47.0</td>\n",
       "      <td>1.0</td>\n",
       "      <td>28.0</td>\n",
       "      <td>0.0</td>\n",
       "      <td>0</td>\n",
       "      <td>1</td>\n",
       "      <td>0</td>\n",
       "      <td>0</td>\n",
       "      <td>1</td>\n",
       "      <td>0</td>\n",
       "      <td>1</td>\n",
       "    </tr>\n",
       "    <tr>\n",
       "      <th>3</th>\n",
       "      <td>4.0</td>\n",
       "      <td>21.0</td>\n",
       "      <td>1.0</td>\n",
       "      <td>11.0</td>\n",
       "      <td>1.0</td>\n",
       "      <td>0</td>\n",
       "      <td>1</td>\n",
       "      <td>0</td>\n",
       "      <td>1</td>\n",
       "      <td>0</td>\n",
       "      <td>1</td>\n",
       "      <td>0</td>\n",
       "    </tr>\n",
       "    <tr>\n",
       "      <th>4</th>\n",
       "      <td>5.0</td>\n",
       "      <td>29.0</td>\n",
       "      <td>1.0</td>\n",
       "      <td>41.0</td>\n",
       "      <td>1.0</td>\n",
       "      <td>1</td>\n",
       "      <td>0</td>\n",
       "      <td>0</td>\n",
       "      <td>1</td>\n",
       "      <td>0</td>\n",
       "      <td>1</td>\n",
       "      <td>0</td>\n",
       "    </tr>\n",
       "    <tr>\n",
       "      <th>...</th>\n",
       "      <td>...</td>\n",
       "      <td>...</td>\n",
       "      <td>...</td>\n",
       "      <td>...</td>\n",
       "      <td>...</td>\n",
       "      <td>...</td>\n",
       "      <td>...</td>\n",
       "      <td>...</td>\n",
       "      <td>...</td>\n",
       "      <td>...</td>\n",
       "      <td>...</td>\n",
       "      <td>...</td>\n",
       "    </tr>\n",
       "    <tr>\n",
       "      <th>381104</th>\n",
       "      <td>381105.0</td>\n",
       "      <td>74.0</td>\n",
       "      <td>1.0</td>\n",
       "      <td>26.0</td>\n",
       "      <td>1.0</td>\n",
       "      <td>0</td>\n",
       "      <td>1</td>\n",
       "      <td>1</td>\n",
       "      <td>0</td>\n",
       "      <td>0</td>\n",
       "      <td>1</td>\n",
       "      <td>0</td>\n",
       "    </tr>\n",
       "    <tr>\n",
       "      <th>381105</th>\n",
       "      <td>381106.0</td>\n",
       "      <td>30.0</td>\n",
       "      <td>1.0</td>\n",
       "      <td>37.0</td>\n",
       "      <td>1.0</td>\n",
       "      <td>0</td>\n",
       "      <td>1</td>\n",
       "      <td>0</td>\n",
       "      <td>1</td>\n",
       "      <td>0</td>\n",
       "      <td>1</td>\n",
       "      <td>0</td>\n",
       "    </tr>\n",
       "    <tr>\n",
       "      <th>381106</th>\n",
       "      <td>381107.0</td>\n",
       "      <td>21.0</td>\n",
       "      <td>1.0</td>\n",
       "      <td>30.0</td>\n",
       "      <td>1.0</td>\n",
       "      <td>0</td>\n",
       "      <td>1</td>\n",
       "      <td>0</td>\n",
       "      <td>1</td>\n",
       "      <td>0</td>\n",
       "      <td>1</td>\n",
       "      <td>0</td>\n",
       "    </tr>\n",
       "    <tr>\n",
       "      <th>381107</th>\n",
       "      <td>381108.0</td>\n",
       "      <td>68.0</td>\n",
       "      <td>1.0</td>\n",
       "      <td>14.0</td>\n",
       "      <td>0.0</td>\n",
       "      <td>1</td>\n",
       "      <td>0</td>\n",
       "      <td>0</td>\n",
       "      <td>0</td>\n",
       "      <td>1</td>\n",
       "      <td>0</td>\n",
       "      <td>1</td>\n",
       "    </tr>\n",
       "    <tr>\n",
       "      <th>381108</th>\n",
       "      <td>381109.0</td>\n",
       "      <td>46.0</td>\n",
       "      <td>1.0</td>\n",
       "      <td>29.0</td>\n",
       "      <td>0.0</td>\n",
       "      <td>0</td>\n",
       "      <td>1</td>\n",
       "      <td>1</td>\n",
       "      <td>0</td>\n",
       "      <td>0</td>\n",
       "      <td>1</td>\n",
       "      <td>0</td>\n",
       "    </tr>\n",
       "  </tbody>\n",
       "</table>\n",
       "<p>380723 rows × 12 columns</p>\n",
       "</div>"
      ],
      "text/plain": [
       "        Customer_Id   Age  Driving Licence Present  Region Code  \\\n",
       "0               1.0  44.0                      1.0         28.0   \n",
       "1               2.0  76.0                      1.0          3.0   \n",
       "2               3.0  47.0                      1.0         28.0   \n",
       "3               4.0  21.0                      1.0         11.0   \n",
       "4               5.0  29.0                      1.0         41.0   \n",
       "...             ...   ...                      ...          ...   \n",
       "381104     381105.0  74.0                      1.0         26.0   \n",
       "381105     381106.0  30.0                      1.0         37.0   \n",
       "381106     381107.0  21.0                      1.0         30.0   \n",
       "381107     381108.0  68.0                      1.0         14.0   \n",
       "381108     381109.0  46.0                      1.0         29.0   \n",
       "\n",
       "        Previously Insured  Gender_Female  Gender_Male  Vehicle Age_1-2 Year  \\\n",
       "0                      0.0              0            1                     0   \n",
       "1                      0.0              0            1                     1   \n",
       "2                      0.0              0            1                     0   \n",
       "3                      1.0              0            1                     0   \n",
       "4                      1.0              1            0                     0   \n",
       "...                    ...            ...          ...                   ...   \n",
       "381104                 1.0              0            1                     1   \n",
       "381105                 1.0              0            1                     0   \n",
       "381106                 1.0              0            1                     0   \n",
       "381107                 0.0              1            0                     0   \n",
       "381108                 0.0              0            1                     1   \n",
       "\n",
       "        Vehicle Age_< 1 Year  Vehicle Age_> 2 Years  Vehicle Damage_No  \\\n",
       "0                          0                      1                  0   \n",
       "1                          0                      0                  1   \n",
       "2                          0                      1                  0   \n",
       "3                          1                      0                  1   \n",
       "4                          1                      0                  1   \n",
       "...                      ...                    ...                ...   \n",
       "381104                     0                      0                  1   \n",
       "381105                     1                      0                  1   \n",
       "381106                     1                      0                  1   \n",
       "381107                     0                      1                  0   \n",
       "381108                     0                      0                  1   \n",
       "\n",
       "        Vehicle Damage_Yes  \n",
       "0                        1  \n",
       "1                        0  \n",
       "2                        1  \n",
       "3                        0  \n",
       "4                        0  \n",
       "...                    ...  \n",
       "381104                   0  \n",
       "381105                   0  \n",
       "381106                   0  \n",
       "381107                   1  \n",
       "381108                   0  \n",
       "\n",
       "[380723 rows x 12 columns]"
      ]
     },
     "execution_count": 30,
     "metadata": {},
     "output_type": "execute_result"
    }
   ],
   "source": [
    "customerdetails.drop_duplicates()"
   ]
  },
  {
   "cell_type": "markdown",
   "id": "8ea25515",
   "metadata": {},
   "source": [
    "## Answer 3"
   ]
  },
  {
   "cell_type": "markdown",
   "id": "ab811b1c",
   "metadata": {},
   "source": [
    "##Create a Master table for future use. Join the customer table and customer_policy table to get a master table using customer_id in both tables."
   ]
  },
  {
   "cell_type": "code",
   "execution_count": 31,
   "id": "f5c99f72",
   "metadata": {},
   "outputs": [],
   "source": [
    "master_table=pd.merge(customer_details,customer_policy_details)"
   ]
  },
  {
   "cell_type": "code",
   "execution_count": 32,
   "id": "acaf9e8e",
   "metadata": {},
   "outputs": [
    {
     "data": {
      "text/html": [
       "<div>\n",
       "<style scoped>\n",
       "    .dataframe tbody tr th:only-of-type {\n",
       "        vertical-align: middle;\n",
       "    }\n",
       "\n",
       "    .dataframe tbody tr th {\n",
       "        vertical-align: top;\n",
       "    }\n",
       "\n",
       "    .dataframe thead th {\n",
       "        text-align: right;\n",
       "    }\n",
       "</style>\n",
       "<table border=\"1\" class=\"dataframe\">\n",
       "  <thead>\n",
       "    <tr style=\"text-align: right;\">\n",
       "      <th></th>\n",
       "      <th>Customer_Id</th>\n",
       "      <th>Gender</th>\n",
       "      <th>Age</th>\n",
       "      <th>Driving Licence Present</th>\n",
       "      <th>Region Code</th>\n",
       "      <th>Previously Insured</th>\n",
       "      <th>Vehicle Age</th>\n",
       "      <th>Vehicle Damage</th>\n",
       "      <th>Annual Premium(Rs)</th>\n",
       "      <th>Sales Channel Code</th>\n",
       "      <th>Vintage</th>\n",
       "      <th>Response</th>\n",
       "    </tr>\n",
       "  </thead>\n",
       "  <tbody>\n",
       "    <tr>\n",
       "      <th>0</th>\n",
       "      <td>1.0</td>\n",
       "      <td>Male</td>\n",
       "      <td>44</td>\n",
       "      <td>1.0</td>\n",
       "      <td>28.0</td>\n",
       "      <td>0.0</td>\n",
       "      <td>&gt; 2 Years</td>\n",
       "      <td>Yes</td>\n",
       "      <td>40454.0</td>\n",
       "      <td>26.0</td>\n",
       "      <td>217.0</td>\n",
       "      <td>1.0</td>\n",
       "    </tr>\n",
       "    <tr>\n",
       "      <th>1</th>\n",
       "      <td>2.0</td>\n",
       "      <td>Male</td>\n",
       "      <td>76</td>\n",
       "      <td>1.0</td>\n",
       "      <td>3.0</td>\n",
       "      <td>0.0</td>\n",
       "      <td>1-2 Year</td>\n",
       "      <td>No</td>\n",
       "      <td>33536.0</td>\n",
       "      <td>26.0</td>\n",
       "      <td>183.0</td>\n",
       "      <td>0.0</td>\n",
       "    </tr>\n",
       "    <tr>\n",
       "      <th>2</th>\n",
       "      <td>3.0</td>\n",
       "      <td>Male</td>\n",
       "      <td>47</td>\n",
       "      <td>1.0</td>\n",
       "      <td>28.0</td>\n",
       "      <td>0.0</td>\n",
       "      <td>&gt; 2 Years</td>\n",
       "      <td>Yes</td>\n",
       "      <td>38294.0</td>\n",
       "      <td>26.0</td>\n",
       "      <td>27.0</td>\n",
       "      <td>1.0</td>\n",
       "    </tr>\n",
       "    <tr>\n",
       "      <th>3</th>\n",
       "      <td>4.0</td>\n",
       "      <td>Male</td>\n",
       "      <td>21</td>\n",
       "      <td>1.0</td>\n",
       "      <td>11.0</td>\n",
       "      <td>1.0</td>\n",
       "      <td>&lt; 1 Year</td>\n",
       "      <td>No</td>\n",
       "      <td>28619.0</td>\n",
       "      <td>152.0</td>\n",
       "      <td>203.0</td>\n",
       "      <td>0.0</td>\n",
       "    </tr>\n",
       "    <tr>\n",
       "      <th>4</th>\n",
       "      <td>5.0</td>\n",
       "      <td>Female</td>\n",
       "      <td>29</td>\n",
       "      <td>1.0</td>\n",
       "      <td>41.0</td>\n",
       "      <td>1.0</td>\n",
       "      <td>&lt; 1 Year</td>\n",
       "      <td>No</td>\n",
       "      <td>27496.0</td>\n",
       "      <td>152.0</td>\n",
       "      <td>39.0</td>\n",
       "      <td>0.0</td>\n",
       "    </tr>\n",
       "    <tr>\n",
       "      <th>...</th>\n",
       "      <td>...</td>\n",
       "      <td>...</td>\n",
       "      <td>...</td>\n",
       "      <td>...</td>\n",
       "      <td>...</td>\n",
       "      <td>...</td>\n",
       "      <td>...</td>\n",
       "      <td>...</td>\n",
       "      <td>...</td>\n",
       "      <td>...</td>\n",
       "      <td>...</td>\n",
       "      <td>...</td>\n",
       "    </tr>\n",
       "    <tr>\n",
       "      <th>380331</th>\n",
       "      <td>381105.0</td>\n",
       "      <td>Male</td>\n",
       "      <td>74</td>\n",
       "      <td>1.0</td>\n",
       "      <td>26.0</td>\n",
       "      <td>1.0</td>\n",
       "      <td>1-2 Year</td>\n",
       "      <td>No</td>\n",
       "      <td>30170.0</td>\n",
       "      <td>26.0</td>\n",
       "      <td>88.0</td>\n",
       "      <td>0.0</td>\n",
       "    </tr>\n",
       "    <tr>\n",
       "      <th>380332</th>\n",
       "      <td>381106.0</td>\n",
       "      <td>Male</td>\n",
       "      <td>30</td>\n",
       "      <td>1.0</td>\n",
       "      <td>37.0</td>\n",
       "      <td>1.0</td>\n",
       "      <td>&lt; 1 Year</td>\n",
       "      <td>No</td>\n",
       "      <td>40016.0</td>\n",
       "      <td>152.0</td>\n",
       "      <td>131.0</td>\n",
       "      <td>0.0</td>\n",
       "    </tr>\n",
       "    <tr>\n",
       "      <th>380333</th>\n",
       "      <td>381107.0</td>\n",
       "      <td>Male</td>\n",
       "      <td>21</td>\n",
       "      <td>1.0</td>\n",
       "      <td>30.0</td>\n",
       "      <td>1.0</td>\n",
       "      <td>&lt; 1 Year</td>\n",
       "      <td>No</td>\n",
       "      <td>35118.0</td>\n",
       "      <td>160.0</td>\n",
       "      <td>161.0</td>\n",
       "      <td>0.0</td>\n",
       "    </tr>\n",
       "    <tr>\n",
       "      <th>380334</th>\n",
       "      <td>381108.0</td>\n",
       "      <td>Female</td>\n",
       "      <td>68</td>\n",
       "      <td>1.0</td>\n",
       "      <td>14.0</td>\n",
       "      <td>0.0</td>\n",
       "      <td>&gt; 2 Years</td>\n",
       "      <td>Yes</td>\n",
       "      <td>44617.0</td>\n",
       "      <td>124.0</td>\n",
       "      <td>74.0</td>\n",
       "      <td>0.0</td>\n",
       "    </tr>\n",
       "    <tr>\n",
       "      <th>380335</th>\n",
       "      <td>381109.0</td>\n",
       "      <td>Male</td>\n",
       "      <td>46</td>\n",
       "      <td>1.0</td>\n",
       "      <td>29.0</td>\n",
       "      <td>0.0</td>\n",
       "      <td>1-2 Year</td>\n",
       "      <td>No</td>\n",
       "      <td>41777.0</td>\n",
       "      <td>26.0</td>\n",
       "      <td>237.0</td>\n",
       "      <td>0.0</td>\n",
       "    </tr>\n",
       "  </tbody>\n",
       "</table>\n",
       "<p>380336 rows × 12 columns</p>\n",
       "</div>"
      ],
      "text/plain": [
       "        Customer_Id  Gender  Age  Driving Licence Present  Region Code  \\\n",
       "0               1.0    Male   44                      1.0         28.0   \n",
       "1               2.0    Male   76                      1.0          3.0   \n",
       "2               3.0    Male   47                      1.0         28.0   \n",
       "3               4.0    Male   21                      1.0         11.0   \n",
       "4               5.0  Female   29                      1.0         41.0   \n",
       "...             ...     ...  ...                      ...          ...   \n",
       "380331     381105.0    Male   74                      1.0         26.0   \n",
       "380332     381106.0    Male   30                      1.0         37.0   \n",
       "380333     381107.0    Male   21                      1.0         30.0   \n",
       "380334     381108.0  Female   68                      1.0         14.0   \n",
       "380335     381109.0    Male   46                      1.0         29.0   \n",
       "\n",
       "        Previously Insured Vehicle Age Vehicle Damage  Annual Premium(Rs)  \\\n",
       "0                      0.0   > 2 Years            Yes             40454.0   \n",
       "1                      0.0    1-2 Year             No             33536.0   \n",
       "2                      0.0   > 2 Years            Yes             38294.0   \n",
       "3                      1.0    < 1 Year             No             28619.0   \n",
       "4                      1.0    < 1 Year             No             27496.0   \n",
       "...                    ...         ...            ...                 ...   \n",
       "380331                 1.0    1-2 Year             No             30170.0   \n",
       "380332                 1.0    < 1 Year             No             40016.0   \n",
       "380333                 1.0    < 1 Year             No             35118.0   \n",
       "380334                 0.0   > 2 Years            Yes             44617.0   \n",
       "380335                 0.0    1-2 Year             No             41777.0   \n",
       "\n",
       "        Sales Channel Code  Vintage  Response  \n",
       "0                     26.0    217.0       1.0  \n",
       "1                     26.0    183.0       0.0  \n",
       "2                     26.0     27.0       1.0  \n",
       "3                    152.0    203.0       0.0  \n",
       "4                    152.0     39.0       0.0  \n",
       "...                    ...      ...       ...  \n",
       "380331                26.0     88.0       0.0  \n",
       "380332               152.0    131.0       0.0  \n",
       "380333               160.0    161.0       0.0  \n",
       "380334               124.0     74.0       0.0  \n",
       "380335                26.0    237.0       0.0  \n",
       "\n",
       "[380336 rows x 12 columns]"
      ]
     },
     "execution_count": 32,
     "metadata": {},
     "output_type": "execute_result"
    }
   ],
   "source": [
    "master_table['Age']=master_table['Age'].astype('int')\n",
    "master_table"
   ]
  },
  {
   "cell_type": "markdown",
   "id": "734608b9",
   "metadata": {},
   "source": [
    "## Answer 4"
   ]
  },
  {
   "cell_type": "markdown",
   "id": "eb0c872c",
   "metadata": {},
   "source": [
    "## company need some imporatant information from the master table to make decision for future growth .They needs some following information"
   ]
  },
  {
   "cell_type": "markdown",
   "id": "70463d5b",
   "metadata": {},
   "source": [
    "## i"
   ]
  },
  {
   "cell_type": "markdown",
   "id": "8222652c",
   "metadata": {},
   "source": [
    "## gender wise average annual prmium"
   ]
  },
  {
   "cell_type": "code",
   "execution_count": 33,
   "id": "f66fbe75",
   "metadata": {},
   "outputs": [
    {
     "data": {
      "text/plain": [
       "Gender\n",
       "Female    30505.151882\n",
       "Male      30635.409127\n",
       "Name: Annual Premium(Rs), dtype: float64"
      ]
     },
     "execution_count": 33,
     "metadata": {},
     "output_type": "execute_result"
    }
   ],
   "source": [
    "master_table.groupby(['Gender'])['Annual Premium(Rs)'].mean()"
   ]
  },
  {
   "cell_type": "markdown",
   "id": "f22fa70e",
   "metadata": {},
   "source": [
    "## ii"
   ]
  },
  {
   "cell_type": "markdown",
   "id": "067043ba",
   "metadata": {},
   "source": [
    "## Age wise annual avearage premium"
   ]
  },
  {
   "cell_type": "code",
   "execution_count": 34,
   "id": "557d4190",
   "metadata": {},
   "outputs": [
    {
     "data": {
      "text/plain": [
       "Age\n",
       "20    26940.061164\n",
       "21    30573.665891\n",
       "22    30837.557285\n",
       "23    30698.806695\n",
       "24    31200.619093\n",
       "          ...     \n",
       "81    31201.571429\n",
       "82    37705.379310\n",
       "83    31012.727273\n",
       "84    35440.818182\n",
       "85    29792.363636\n",
       "Name: Annual Premium(Rs), Length: 66, dtype: float64"
      ]
     },
     "execution_count": 34,
     "metadata": {},
     "output_type": "execute_result"
    }
   ],
   "source": [
    "master_table.groupby(['Age'])['Annual Premium(Rs)'].mean()"
   ]
  },
  {
   "cell_type": "markdown",
   "id": "63083f74",
   "metadata": {},
   "source": [
    "## iii"
   ]
  },
  {
   "cell_type": "markdown",
   "id": "b182598c",
   "metadata": {},
   "source": [
    "## is your data betwween the genders be balanced?"
   ]
  },
  {
   "cell_type": "code",
   "execution_count": 35,
   "id": "1083108f",
   "metadata": {},
   "outputs": [
    {
     "data": {
      "text/plain": [
       "Male      205851\n",
       "Female    174485\n",
       "Name: Gender, dtype: int64"
      ]
     },
     "execution_count": 35,
     "metadata": {},
     "output_type": "execute_result"
    }
   ],
   "source": [
    "master_table['Gender'].value_counts()"
   ]
  },
  {
   "cell_type": "markdown",
   "id": "4f1f3f01",
   "metadata": {},
   "source": [
    "## iv"
   ]
  },
  {
   "cell_type": "markdown",
   "id": "5a81b461",
   "metadata": {},
   "source": [
    "## vehicle age wise annual average premium"
   ]
  },
  {
   "cell_type": "code",
   "execution_count": 36,
   "id": "35059bac",
   "metadata": {},
   "outputs": [
    {
     "data": {
      "text/plain": [
       "Vehicle Age\n",
       "1-2 Year     30538.472949\n",
       "< 1 Year     30126.565208\n",
       "> 2 Years    35667.836135\n",
       "Name: Annual Premium(Rs), dtype: float64"
      ]
     },
     "execution_count": 36,
     "metadata": {},
     "output_type": "execute_result"
    }
   ],
   "source": [
    "master_table.groupby(['Vehicle Age'])['Annual Premium(Rs)'].mean()"
   ]
  },
  {
   "cell_type": "markdown",
   "id": "5cd6b333",
   "metadata": {},
   "source": [
    "## Answer 5"
   ]
  },
  {
   "cell_type": "markdown",
   "id": "03efeb71",
   "metadata": {},
   "source": [
    "## is there any realation  between person age and annual premium "
   ]
  },
  {
   "cell_type": "code",
   "execution_count": null,
   "id": "d7c80d81",
   "metadata": {},
   "outputs": [],
   "source": [
    "Correlation coefficient < -0.5 - Strong negative relationship\n",
    "Correlation coefficient > 0.5 - Strong positive relationship\n",
    "0.5 < Correlation coefficient < 0.5 - There is no relationship."
   ]
  },
  {
   "cell_type": "code",
   "execution_count": 37,
   "id": "114b107b",
   "metadata": {},
   "outputs": [
    {
     "data": {
      "text/plain": [
       "array([[1.        , 0.06769523],\n",
       "       [0.06769523, 1.        ]])"
      ]
     },
     "execution_count": 37,
     "metadata": {},
     "output_type": "execute_result"
    }
   ],
   "source": [
    "np.corrcoef(master_table['Age'],master_table['Annual Premium(Rs)'])"
   ]
  },
  {
   "cell_type": "code",
   "execution_count": null,
   "id": "c54f9b86",
   "metadata": {},
   "outputs": [],
   "source": []
  },
  {
   "cell_type": "code",
   "execution_count": null,
   "id": "8e0c89e4",
   "metadata": {},
   "outputs": [],
   "source": []
  }
 ],
 "metadata": {
  "kernelspec": {
   "display_name": "Python 3 (ipykernel)",
   "language": "python",
   "name": "python3"
  },
  "language_info": {
   "codemirror_mode": {
    "name": "ipython",
    "version": 3
   },
   "file_extension": ".py",
   "mimetype": "text/x-python",
   "name": "python",
   "nbconvert_exporter": "python",
   "pygments_lexer": "ipython3",
   "version": "3.9.12"
  }
 },
 "nbformat": 4,
 "nbformat_minor": 5
}
